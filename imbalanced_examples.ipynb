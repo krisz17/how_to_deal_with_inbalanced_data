{
 "cells": [
  {
   "cell_type": "markdown",
   "id": "d1cfe6d2-81be-4364-8a24-b1de52eb79c4",
   "metadata": {},
   "source": [
    "#### Kod demonstracyjny do wykorzystania przy próbie zrównoważenia danych niezbalansowanych"
   ]
  },
  {
   "cell_type": "markdown",
   "id": "f102abbe-50d3-49dd-8376-cd4b6aac5e1b",
   "metadata": {},
   "source": [
    "Tworzymy podzbiór z klasy większościowej poprzez metodę Centroidów (K-means)"
   ]
  },
  {
   "cell_type": "code",
   "execution_count": 2,
   "id": "a19d9729-101d-4331-a76a-7dac57abcffc",
   "metadata": {},
   "outputs": [
    {
     "name": "stdout",
     "output_type": "stream",
     "text": [
      "Liczność oryginalnych klas:  [(0, 64), (1, 262), (2, 4674)]\n",
      "Liczność klas po zastosowaniu algorytmu:  [(0, 64), (1, 64), (2, 64)]\n"
     ]
    }
   ],
   "source": [
    "from collections import Counter\n",
    "from sklearn.datasets import make_classification\n",
    "X, y = make_classification(n_samples=5000, n_features=2, n_informative=2,\n",
    "                           n_redundant=0, n_repeated=0, n_classes=3,\n",
    "                           n_clusters_per_class=1,\n",
    "                           weights=[0.01, 0.05, 0.94],\n",
    "                           class_sep=0.8, random_state=0)\n",
    "print(\"Liczność oryginalnych klas: \", sorted(Counter(y).items()))\n",
    "\n",
    "from imblearn.under_sampling import ClusterCentroids\n",
    "cc = ClusterCentroids(random_state=0)\n",
    "X_resampled, y_resampled = cc.fit_resample(X, y)\n",
    "print(\"Liczność klas po zastosowaniu algorytmu: \",sorted(Counter(y_resampled).items()))"
   ]
  },
  {
   "cell_type": "markdown",
   "id": "e7563a74-3342-4eee-a839-bcf47c502c50",
   "metadata": {},
   "source": [
    "Tworzymy podzbiór porzez randomowe losowanie, niepolecane ale jest na pewno szybkie"
   ]
  },
  {
   "cell_type": "code",
   "execution_count": 9,
   "id": "354af558-dafa-40e0-ada7-b6d4074c8add",
   "metadata": {},
   "outputs": [
    {
     "name": "stdout",
     "output_type": "stream",
     "text": [
      "Liczność kategorii zbioru po próbkowaniu: [(0, 64), (1, 64), (2, 64)]\n",
      "Liczność elementów po próbkowaniu bez zwracania:  (192, 2)\n",
      "Liczność elementów po próbkowaniu ze zwracaniem:  (181, 2)\n"
     ]
    },
    {
     "data": {
      "text/html": [
       "<div>\n",
       "<style scoped>\n",
       "    .dataframe tbody tr th:only-of-type {\n",
       "        vertical-align: middle;\n",
       "    }\n",
       "\n",
       "    .dataframe tbody tr th {\n",
       "        vertical-align: top;\n",
       "    }\n",
       "\n",
       "    .dataframe thead th {\n",
       "        text-align: right;\n",
       "    }\n",
       "</style>\n",
       "<table border=\"1\" class=\"dataframe\">\n",
       "  <thead>\n",
       "    <tr style=\"text-align: right;\">\n",
       "      <th></th>\n",
       "      <th>age</th>\n",
       "      <th>workclass</th>\n",
       "      <th>fnlwgt</th>\n",
       "      <th>education</th>\n",
       "      <th>education-num</th>\n",
       "      <th>marital-status</th>\n",
       "      <th>occupation</th>\n",
       "      <th>relationship</th>\n",
       "      <th>race</th>\n",
       "      <th>sex</th>\n",
       "      <th>capital-gain</th>\n",
       "      <th>capital-loss</th>\n",
       "      <th>hours-per-week</th>\n",
       "      <th>native-country</th>\n",
       "    </tr>\n",
       "  </thead>\n",
       "  <tbody>\n",
       "    <tr>\n",
       "      <th>0</th>\n",
       "      <td>29.0</td>\n",
       "      <td>Private</td>\n",
       "      <td>201101.0</td>\n",
       "      <td>HS-grad</td>\n",
       "      <td>9.0</td>\n",
       "      <td>Married-civ-spouse</td>\n",
       "      <td>Machine-op-inspct</td>\n",
       "      <td>Husband</td>\n",
       "      <td>White</td>\n",
       "      <td>Male</td>\n",
       "      <td>0.0</td>\n",
       "      <td>0.0</td>\n",
       "      <td>50.0</td>\n",
       "      <td>United-States</td>\n",
       "    </tr>\n",
       "    <tr>\n",
       "      <th>1</th>\n",
       "      <td>23.0</td>\n",
       "      <td>Private</td>\n",
       "      <td>188950.0</td>\n",
       "      <td>Assoc-voc</td>\n",
       "      <td>11.0</td>\n",
       "      <td>Never-married</td>\n",
       "      <td>Sales</td>\n",
       "      <td>Own-child</td>\n",
       "      <td>White</td>\n",
       "      <td>Male</td>\n",
       "      <td>0.0</td>\n",
       "      <td>0.0</td>\n",
       "      <td>40.0</td>\n",
       "      <td>United-States</td>\n",
       "    </tr>\n",
       "    <tr>\n",
       "      <th>2</th>\n",
       "      <td>24.0</td>\n",
       "      <td>Private</td>\n",
       "      <td>282604.0</td>\n",
       "      <td>Some-college</td>\n",
       "      <td>10.0</td>\n",
       "      <td>Married-civ-spouse</td>\n",
       "      <td>Protective-serv</td>\n",
       "      <td>Other-relative</td>\n",
       "      <td>White</td>\n",
       "      <td>Male</td>\n",
       "      <td>0.0</td>\n",
       "      <td>0.0</td>\n",
       "      <td>24.0</td>\n",
       "      <td>United-States</td>\n",
       "    </tr>\n",
       "    <tr>\n",
       "      <th>3</th>\n",
       "      <td>29.0</td>\n",
       "      <td>Private</td>\n",
       "      <td>174419.0</td>\n",
       "      <td>HS-grad</td>\n",
       "      <td>9.0</td>\n",
       "      <td>Never-married</td>\n",
       "      <td>Other-service</td>\n",
       "      <td>Unmarried</td>\n",
       "      <td>White</td>\n",
       "      <td>Female</td>\n",
       "      <td>0.0</td>\n",
       "      <td>0.0</td>\n",
       "      <td>30.0</td>\n",
       "      <td>United-States</td>\n",
       "    </tr>\n",
       "    <tr>\n",
       "      <th>4</th>\n",
       "      <td>20.0</td>\n",
       "      <td>Private</td>\n",
       "      <td>236592.0</td>\n",
       "      <td>12th</td>\n",
       "      <td>8.0</td>\n",
       "      <td>Never-married</td>\n",
       "      <td>Prof-specialty</td>\n",
       "      <td>Not-in-family</td>\n",
       "      <td>White</td>\n",
       "      <td>Female</td>\n",
       "      <td>0.0</td>\n",
       "      <td>0.0</td>\n",
       "      <td>35.0</td>\n",
       "      <td>Italy</td>\n",
       "    </tr>\n",
       "  </tbody>\n",
       "</table>\n",
       "</div>"
      ],
      "text/plain": [
       "    age workclass    fnlwgt     education  education-num      marital-status  \\\n",
       "0  29.0   Private  201101.0       HS-grad            9.0  Married-civ-spouse   \n",
       "1  23.0   Private  188950.0     Assoc-voc           11.0       Never-married   \n",
       "2  24.0   Private  282604.0  Some-college           10.0  Married-civ-spouse   \n",
       "3  29.0   Private  174419.0       HS-grad            9.0       Never-married   \n",
       "4  20.0   Private  236592.0          12th            8.0       Never-married   \n",
       "\n",
       "          occupation    relationship   race     sex  capital-gain  \\\n",
       "0  Machine-op-inspct         Husband  White    Male           0.0   \n",
       "1              Sales       Own-child  White    Male           0.0   \n",
       "2    Protective-serv  Other-relative  White    Male           0.0   \n",
       "3      Other-service       Unmarried  White  Female           0.0   \n",
       "4     Prof-specialty   Not-in-family  White  Female           0.0   \n",
       "\n",
       "   capital-loss  hours-per-week native-country  \n",
       "0           0.0            50.0  United-States  \n",
       "1           0.0            40.0  United-States  \n",
       "2           0.0            24.0  United-States  \n",
       "3           0.0            30.0  United-States  \n",
       "4           0.0            35.0          Italy  "
      ]
     },
     "execution_count": 9,
     "metadata": {},
     "output_type": "execute_result"
    }
   ],
   "source": [
    "from imblearn.under_sampling import RandomUnderSampler\n",
    "rus = RandomUnderSampler(random_state=0)\n",
    "X, y = make_classification(n_samples=5000, n_features=2, n_informative=2,\n",
    "                           n_redundant=0, n_repeated=0, n_classes=3,\n",
    "                           n_clusters_per_class=1,\n",
    "                           weights=[0.01, 0.05, 0.94],\n",
    "                           class_sep=0.8, random_state=0)\n",
    "\n",
    "\n",
    "X_resampled, y_resampled = rus.fit_resample(X, y)\n",
    "print(\"Liczność kategorii zbioru po próbkowaniu:\", sorted(Counter(y_resampled).items()))\n",
    "\n",
    "# przykład próbkowania ze zwracaniem\n",
    "import numpy as np\n",
    "print(\"Liczność elementów po próbkowaniu bez zwracania: \", np.vstack([tuple(row) for row in X_resampled]).shape)\n",
    "\n",
    "rus = RandomUnderSampler(random_state=0, replacement=True)\n",
    "X_resampled, y_resampled = rus.fit_resample(X, y)\n",
    "print(\"Liczność elementów po próbkowaniu ze zwracaniem: \", np.vstack(np.unique([tuple(row) for row in X_resampled], axis=0)).shape)\n",
    "\n",
    "# na obiektach Pandas \n",
    "from sklearn.datasets import fetch_openml\n",
    "df_adult, y_adult = fetch_openml(\n",
    "    'adult', version=2, as_frame=True, return_X_y=True)\n",
    "df_adult.head()  \n",
    "df_resampled, y_resampled = rus.fit_resample(df_adult, y_adult)\n",
    "df_resampled.head()  "
   ]
  },
  {
   "cell_type": "code",
   "execution_count": 7,
   "id": "01e293d4-8560-45f1-b4d6-c6d37965511e",
   "metadata": {},
   "outputs": [
    {
     "data": {
      "text/plain": [
       "(48842, 14)"
      ]
     },
     "execution_count": 7,
     "metadata": {},
     "output_type": "execute_result"
    }
   ],
   "source": [
    "df_adult.shape"
   ]
  },
  {
   "cell_type": "code",
   "execution_count": null,
   "id": "9678ad82-1105-4edb-a090-1124b9d15e1c",
   "metadata": {},
   "outputs": [
    {
     "data": {
      "text/html": [
       "<div>\n",
       "<style scoped>\n",
       "    .dataframe tbody tr th:only-of-type {\n",
       "        vertical-align: middle;\n",
       "    }\n",
       "\n",
       "    .dataframe tbody tr th {\n",
       "        vertical-align: top;\n",
       "    }\n",
       "\n",
       "    .dataframe thead th {\n",
       "        text-align: right;\n",
       "    }\n",
       "</style>\n",
       "<table border=\"1\" class=\"dataframe\">\n",
       "  <thead>\n",
       "    <tr style=\"text-align: right;\">\n",
       "      <th></th>\n",
       "      <th>age</th>\n",
       "      <th>workclass</th>\n",
       "      <th>fnlwgt</th>\n",
       "      <th>education</th>\n",
       "      <th>education-num</th>\n",
       "      <th>marital-status</th>\n",
       "      <th>occupation</th>\n",
       "      <th>relationship</th>\n",
       "      <th>race</th>\n",
       "      <th>sex</th>\n",
       "      <th>capital-gain</th>\n",
       "      <th>capital-loss</th>\n",
       "      <th>hours-per-week</th>\n",
       "      <th>native-country</th>\n",
       "    </tr>\n",
       "  </thead>\n",
       "  <tbody>\n",
       "    <tr>\n",
       "      <th>0</th>\n",
       "      <td>29.0</td>\n",
       "      <td>Private</td>\n",
       "      <td>201101.0</td>\n",
       "      <td>HS-grad</td>\n",
       "      <td>9.0</td>\n",
       "      <td>Married-civ-spouse</td>\n",
       "      <td>Machine-op-inspct</td>\n",
       "      <td>Husband</td>\n",
       "      <td>White</td>\n",
       "      <td>Male</td>\n",
       "      <td>0.0</td>\n",
       "      <td>0.0</td>\n",
       "      <td>50.0</td>\n",
       "      <td>United-States</td>\n",
       "    </tr>\n",
       "    <tr>\n",
       "      <th>1</th>\n",
       "      <td>23.0</td>\n",
       "      <td>Private</td>\n",
       "      <td>188950.0</td>\n",
       "      <td>Assoc-voc</td>\n",
       "      <td>11.0</td>\n",
       "      <td>Never-married</td>\n",
       "      <td>Sales</td>\n",
       "      <td>Own-child</td>\n",
       "      <td>White</td>\n",
       "      <td>Male</td>\n",
       "      <td>0.0</td>\n",
       "      <td>0.0</td>\n",
       "      <td>40.0</td>\n",
       "      <td>United-States</td>\n",
       "    </tr>\n",
       "  </tbody>\n",
       "</table>\n",
       "</div>"
      ],
      "text/plain": [
       "    age workclass    fnlwgt  education  education-num      marital-status  \\\n",
       "0  29.0   Private  201101.0    HS-grad            9.0  Married-civ-spouse   \n",
       "1  23.0   Private  188950.0  Assoc-voc           11.0       Never-married   \n",
       "\n",
       "          occupation relationship   race   sex  capital-gain  capital-loss  \\\n",
       "0  Machine-op-inspct      Husband  White  Male           0.0           0.0   \n",
       "1              Sales    Own-child  White  Male           0.0           0.0   \n",
       "\n",
       "   hours-per-week native-country  \n",
       "0            50.0  United-States  \n",
       "1            40.0  United-States  "
      ]
     },
     "execution_count": 5,
     "metadata": {},
     "output_type": "execute_result"
    }
   ],
   "source": [
    "df_resampled.head(2) "
   ]
  },
  {
   "cell_type": "markdown",
   "id": "aac912bf-43c8-4aa9-a0ba-72c135bc4a16",
   "metadata": {},
   "source": [
    "NearMiss czyli losowanie wg odległości do najbliższych sąsiadów. Posiada 3 wersje."
   ]
  },
  {
   "cell_type": "code",
   "execution_count": null,
   "id": "cb581f78-3dee-4a43-879c-bab4072431cd",
   "metadata": {},
   "outputs": [],
   "source": [
    "from imblearn.under_sampling import NearMiss\n",
    "nr = NearMiss(version = 1)\n",
    "X_miss, y_miss = nr.fit_resample(X, y)\n"
   ]
  },
  {
   "cell_type": "markdown",
   "id": "d2bfb1f3-8d5c-4c9c-a0da-cc02673c8c36",
   "metadata": {},
   "source": [
    "### OverSampling"
   ]
  },
  {
   "cell_type": "code",
   "execution_count": 11,
   "id": "6b63f5c2-be6e-4371-b692-c1a69d833fa3",
   "metadata": {},
   "outputs": [
    {
     "name": "stdout",
     "output_type": "stream",
     "text": [
      "[(0, 4674), (1, 4674), (2, 4674)]\n"
     ]
    }
   ],
   "source": [
    "# Random Oversampling czyli powielenie istniejących elementów\n",
    "from sklearn.datasets import make_classification\n",
    "X, y = make_classification(n_samples=5000, n_features=2, n_informative=2,\n",
    "                           n_redundant=0, n_repeated=0, n_classes=3,\n",
    "                           n_clusters_per_class=1,\n",
    "                           weights=[0.01, 0.05, 0.94],\n",
    "                           class_sep=0.8, random_state=0)\n",
    "from imblearn.over_sampling import RandomOverSampler\n",
    "ros = RandomOverSampler(random_state=0)\n",
    "X_resampled, y_resampled = ros.fit_resample(X, y)\n",
    "from collections import Counter\n",
    "print(sorted(Counter(y_resampled).items()))\n"
   ]
  },
  {
   "cell_type": "markdown",
   "id": "c1317744-1130-41dd-92ad-3a32e45ee8cd",
   "metadata": {},
   "source": [
    "SMOTE i ADASYN"
   ]
  },
  {
   "cell_type": "code",
   "execution_count": null,
   "id": "b6c07b08-060e-4133-b4f3-ca171eed5165",
   "metadata": {},
   "outputs": [],
   "source": [
    "from imblearn.over_sampling import SMOTE, ADASYN\n",
    "X_resampled, y_resampled = SMOTE().fit_resample(X, y)\n",
    "print(sorted(Counter(y_resampled).items()))\n",
    "\n",
    "clf_smote = LinearSVC().fit(X_resampled, y_resampled)\n",
    "X_resampled, y_resampled = ADASYN().fit_resample(X, y)\n",
    "print(sorted(Counter(y_resampled).items()))\n",
    "\n",
    "clf_adasyn = LinearSVC().fit(X_resampled, y_resampled)"
   ]
  }
 ],
 "metadata": {
  "kernelspec": {
   "display_name": "Python 3 (ipykernel)",
   "language": "python",
   "name": "python3"
  },
  "language_info": {
   "codemirror_mode": {
    "name": "ipython",
    "version": 3
   },
   "file_extension": ".py",
   "mimetype": "text/x-python",
   "name": "python",
   "nbconvert_exporter": "python",
   "pygments_lexer": "ipython3",
   "version": "3.9.7"
  }
 },
 "nbformat": 4,
 "nbformat_minor": 5
}
